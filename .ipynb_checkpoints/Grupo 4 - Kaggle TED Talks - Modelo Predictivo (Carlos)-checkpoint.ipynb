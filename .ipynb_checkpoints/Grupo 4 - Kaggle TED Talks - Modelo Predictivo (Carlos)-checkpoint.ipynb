{
 "cells": [
  {
   "cell_type": "markdown",
   "metadata": {
    "colab_type": "text",
    "id": "DwC--Afi8fGu"
   },
   "source": [
    "<div class=\"alert alert-block alert-info\">\n",
    "\n",
    "# Imports\n",
    "\n",
    "</div>"
   ]
  },
  {
   "cell_type": "code",
   "execution_count": null,
   "metadata": {
    "colab": {},
    "colab_type": "code",
    "id": "lMooGgTs8fG2"
   },
   "outputs": [],
   "source": [
    "import numpy as np\n",
    "import pandas as pd\n",
    "import matplotlib.pyplot as plt\n",
    "\n",
    "import talos as ta\n",
    "from talos.utils import hidden_layers, early_stopper\n",
    "\n",
    "from sklearn.model_selection import train_test_split\n",
    "from sklearn.preprocessing import StandardScaler\n",
    "\n",
    "from keras.models import Sequential\n",
    "from keras.layers import Dense, Dropout\n",
    "from keras.optimizers import Adam, RMSprop\n",
    "from keras.activations import relu, elu\n",
    "from keras.losses import binary_crossentropy"
   ]
  },
  {
   "cell_type": "markdown",
   "metadata": {
    "colab_type": "text",
    "id": "zPxO7M0z8fHG"
   },
   "source": [
    "<div class=\"alert alert-block alert-info\">\n",
    "\n",
    "# Dataframes\n",
    "\n",
    "</div>"
   ]
  },
  {
   "cell_type": "code",
   "execution_count": null,
   "metadata": {
    "colab": {},
    "colab_type": "code",
    "id": "KEJwm9lF8fHK"
   },
   "outputs": [],
   "source": [
    "df_features = pd.read_csv('./dataset/ted_main_features.csv',sep=\"|\",quotechar='\"')"
   ]
  },
  {
   "cell_type": "code",
   "execution_count": null,
   "metadata": {
    "colab": {
     "base_uri": "https://localhost:8080/",
     "height": 146
    },
    "colab_type": "code",
    "id": "qH3YnzgV8fHZ",
    "outputId": "850c778c-17ec-46c6-944a-78ff8a475c98"
   },
   "outputs": [],
   "source": [
    "df_features.columns"
   ]
  },
  {
   "cell_type": "code",
   "execution_count": null,
   "metadata": {
    "colab": {
     "base_uri": "https://localhost:8080/",
     "height": 35
    },
    "colab_type": "code",
    "id": "etWMlrMU8fHq",
    "outputId": "e744cf2f-f5c7-436a-cac5-9b2430359f4e"
   },
   "outputs": [],
   "source": [
    "df_features.shape"
   ]
  },
  {
   "cell_type": "code",
   "execution_count": null,
   "metadata": {
    "colab": {
     "base_uri": "https://localhost:8080/",
     "height": 273
    },
    "colab_type": "code",
    "id": "syOsAQLV8fH3",
    "outputId": "139a0cf5-f20f-4c15-b910-668c0e18ffb9"
   },
   "outputs": [],
   "source": [
    "df_features.head()"
   ]
  },
  {
   "cell_type": "markdown",
   "metadata": {
    "colab_type": "text",
    "id": "z4IUzPhA8fIN"
   },
   "source": [
    "<div class=\"alert alert-block alert-info\">\n",
    "\n",
    "# Dummies\n",
    "\n",
    "</div>"
   ]
  },
  {
   "cell_type": "markdown",
   "metadata": {
    "colab_type": "text",
    "id": "UZ7LNoud8fIR"
   },
   "source": [
    "## Create Dummies"
   ]
  },
  {
   "cell_type": "code",
   "execution_count": null,
   "metadata": {
    "colab": {},
    "colab_type": "code",
    "id": "nJwTAqXX8fIU"
   },
   "outputs": [],
   "source": [
    "df_film_month = pd.get_dummies(df_features['film_month'],prefix='film_month',drop_first=True)\n",
    "df_published_month = pd.get_dummies(df_features['published_month'],prefix='published_month',drop_first=True)\n",
    "\n",
    "df_film_day = pd.get_dummies(df_features['film_dayofweek'],prefix='film_dayofweek',drop_first=True)\n",
    "df_published_day = pd.get_dummies(df_features['published_dayofweek'],prefix='published_dayofweek',drop_first=True)"
   ]
  },
  {
   "cell_type": "code",
   "execution_count": null,
   "metadata": {
    "colab": {
     "base_uri": "https://localhost:8080/",
     "height": 132
    },
    "colab_type": "code",
    "id": "UKStAizv8fIi",
    "outputId": "a5089853-689c-4ee5-f085-fda444873eb9"
   },
   "outputs": [],
   "source": [
    "df_film_month.head(2)"
   ]
  },
  {
   "cell_type": "code",
   "execution_count": null,
   "metadata": {
    "colab": {
     "base_uri": "https://localhost:8080/",
     "height": 112
    },
    "colab_type": "code",
    "id": "fp6F2hYe_ScX",
    "outputId": "f9c79f98-4ed2-4b01-98a0-05944150d563"
   },
   "outputs": [],
   "source": [
    "df_film_day.head(2)"
   ]
  },
  {
   "cell_type": "code",
   "execution_count": null,
   "metadata": {
    "colab": {
     "base_uri": "https://localhost:8080/",
     "height": 54
    },
    "colab_type": "code",
    "id": "YxhE5UBi8fIs",
    "outputId": "bd2a4d49-58fe-4ef8-d280-227f3abef75a"
   },
   "outputs": [],
   "source": [
    "print(df_film_month.shape)\n",
    "print(df_film_day.shape)"
   ]
  },
  {
   "cell_type": "code",
   "execution_count": null,
   "metadata": {
    "colab": {
     "base_uri": "https://localhost:8080/",
     "height": 132
    },
    "colab_type": "code",
    "id": "Hfd9B8zY8fI0",
    "outputId": "05445fdc-2811-462a-c1ba-4c7b1bfc29bb"
   },
   "outputs": [],
   "source": [
    "df_published_month.head(2)"
   ]
  },
  {
   "cell_type": "code",
   "execution_count": null,
   "metadata": {
    "colab": {
     "base_uri": "https://localhost:8080/",
     "height": 112
    },
    "colab_type": "code",
    "id": "PUfF_fHK_qX5",
    "outputId": "3c0cb34b-f57b-4b3f-f297-2d43f55cd2fd"
   },
   "outputs": [],
   "source": [
    "df_published_day.head(2)"
   ]
  },
  {
   "cell_type": "code",
   "execution_count": null,
   "metadata": {
    "colab": {
     "base_uri": "https://localhost:8080/",
     "height": 54
    },
    "colab_type": "code",
    "id": "uJgwJQ208fI_",
    "outputId": "e05cb75f-4eac-40dd-c259-670cb49abe34"
   },
   "outputs": [],
   "source": [
    "print(df_published_month.shape)\n",
    "print(df_published_day.shape)"
   ]
  },
  {
   "cell_type": "markdown",
   "metadata": {
    "colab_type": "text",
    "id": "6Cz2ulPk8fJK"
   },
   "source": [
    "## Drop Columns"
   ]
  },
  {
   "cell_type": "code",
   "execution_count": null,
   "metadata": {
    "colab": {
     "base_uri": "https://localhost:8080/",
     "height": 273
    },
    "colab_type": "code",
    "id": "_HSRRHI88fJN",
    "outputId": "224be116-cf82-4091-d026-a92c7e92dedf"
   },
   "outputs": [],
   "source": [
    "df_features = df_features.drop(columns=['film_month','film_dayofweek','published_month','published_dayofweek'])\n",
    "df_features.head()"
   ]
  },
  {
   "cell_type": "markdown",
   "metadata": {
    "colab_type": "text",
    "id": "Fa0WAj7g8fJU"
   },
   "source": [
    "## Join Dummies"
   ]
  },
  {
   "cell_type": "code",
   "execution_count": null,
   "metadata": {
    "colab": {
     "base_uri": "https://localhost:8080/",
     "height": 273
    },
    "colab_type": "code",
    "id": "UkdW-BpV8fJV",
    "outputId": "10aecd14-2836-49dc-aa25-4c09b1f72c80"
   },
   "outputs": [],
   "source": [
    "df_features = df_features.merge(df_film_month, left_index=True, right_index=True)\n",
    "df_features = df_features.merge(df_published_month, left_index=True, right_index=True)\n",
    "df_features = df_features.merge(df_film_day, left_index=True, right_index=True)\n",
    "df_features = df_features.merge(df_published_day, left_index=True, right_index=True)\n",
    "df_features.head()"
   ]
  },
  {
   "cell_type": "markdown",
   "metadata": {
    "colab_type": "text",
    "id": "jLIf39iJ8fJb"
   },
   "source": [
    "<div class=\"alert alert-block alert-info\">\n",
    "\n",
    "# Train, Test, Split\n",
    "\n",
    "</div>"
   ]
  },
  {
   "cell_type": "code",
   "execution_count": null,
   "metadata": {
    "colab": {},
    "colab_type": "code",
    "id": "TPYsl_RD8fJe"
   },
   "outputs": [],
   "source": [
    "# Generamos la matriz X y el vector y\n",
    "X = df_features.drop(columns=['views'])\n",
    "y = df_features['views']"
   ]
  },
  {
   "cell_type": "code",
   "execution_count": null,
   "metadata": {
    "colab": {},
    "colab_type": "code",
    "id": "0l3cCxK88fJm"
   },
   "outputs": [],
   "source": [
    "# Separamos train y test\n",
    "X_train, X_test, y_train, y_test = train_test_split(X, y, test_size=0.3, random_state=101)"
   ]
  },
  {
   "cell_type": "code",
   "execution_count": null,
   "metadata": {
    "colab": {
     "base_uri": "https://localhost:8080/",
     "height": 90
    },
    "colab_type": "code",
    "id": "-GdltExL8fJu",
    "outputId": "7d774757-20f5-4f1f-d45a-9c8326db614b"
   },
   "outputs": [],
   "source": [
    "# Estandarizamos las variables\n",
    "scaler = StandardScaler()\n",
    "X_train = scaler.fit_transform(X_train)\n",
    "X_test = scaler.transform(X_test)\n",
    "\n",
    "# Chequeamos las shapes\n",
    "print('X train shape: ', X_train.shape)\n",
    "print('X test shape: ', X_test.shape)\n",
    "print('y train shape: ', y_train.shape)\n",
    "print('y test shape: ', y_test.shape)"
   ]
  },
  {
   "cell_type": "code",
   "execution_count": null,
   "metadata": {
    "colab": {},
    "colab_type": "code",
    "id": "3Ki0FpGG8fJ2"
   },
   "outputs": [],
   "source": [
    "# Primero, definimos una función que permita construir el modelo, donde todos los valores de los hiperparámetros se obtienen del diccionario params \n",
    "\n",
    "def views_ted_talks_model(x_train, y_train, x_val, y_val, params):\n",
    "\n",
    "    model = Sequential()\n",
    "    \n",
    "    model.add(Dense(params['first_neuron'], input_dim=x_train.shape[1],\n",
    "                    activation=params['activation']))\n",
    "    \n",
    "    hidden_layers(model, params, 1) # Necesario para explorar distintas configuraciones de capas ocultas\n",
    "    \n",
    "    model.add(Dense(1))\n",
    "    \n",
    "    model.compile(optimizer='rmsprop',\n",
    "                  loss='mse',\n",
    "                  metrics=['mae'])\n",
    "    \n",
    "    history = model.fit(x_train, y_train,\n",
    "                        validation_data=[x_val, y_val],\n",
    "                        batch_size=params['batch_size'],\n",
    "                        epochs=params['epochs'],\n",
    "                        verbose=1,\n",
    "                        callbacks=[early_stopper(params['epochs'])])\n",
    "\n",
    "    return history, model"
   ]
  },
  {
   "cell_type": "code",
   "execution_count": null,
   "metadata": {
    "colab": {},
    "colab_type": "code",
    "id": "cv0DIRzcJU6-"
   },
   "outputs": [],
   "source": [
    "# Segundo, almacenamos en un diccionario el espacio de hiperparámetros a explorar\n",
    "\n",
    "p = {'first_neuron':[512, 256, 128, 64],     # Requerido si queremos probar distinta cantidad de hidden_layers\n",
    "     'hidden_layers':[8, 12, 16],     # Requerido si queremos probar distinta cantidad de hidden_layers\n",
    "     'dropout': [0, 0.3, 0.6],   # Requerido si queremos probar distinta cantidad de hidden_layers\n",
    "     'shapes': ['triangle'],              # Requerido si queremos probar distinta cantidad de hidden_layers \n",
    "     'batch_size': [512, 128, 32, 16],\n",
    "     'epochs': [500, 700, 2000],\n",
    "     'activation':[relu, elu],}"
   ]
  },
  {
   "cell_type": "code",
   "execution_count": null,
   "metadata": {
    "colab": {},
    "colab_type": "code",
    "id": "XttklIZEKjf_"
   },
   "outputs": [],
   "source": [
    "# Tercero, realizamos la búsqueda con la clase Scan provista por Talos\n",
    "\n",
    "t = ta.Scan(x=X_train, y=y_train, model=views_ted_talks_model, params=p, experiment_name='views_ted_talks_model', seed=42)"
   ]
  },
  {
   "cell_type": "code",
   "execution_count": null,
   "metadata": {},
   "outputs": [],
   "source": [
    "# Pandas DataFrame que resume la información correspondiente a cada prueba\n",
    "t.data.head()"
   ]
  },
  {
   "cell_type": "code",
   "execution_count": null,
   "metadata": {},
   "outputs": [],
   "source": []
  }
 ],
 "metadata": {
  "colab": {
   "name": "Grupo 4 - Kaggle TED Talks - Modelo Predictivo.ipynb",
   "provenance": [],
   "version": "0.3.2"
  },
  "kernelspec": {
   "display_name": "tflow-gpu",
   "language": "python",
   "name": "tflow-gpu"
  },
  "language_info": {
   "codemirror_mode": {
    "name": "ipython",
    "version": 3
   },
   "file_extension": ".py",
   "mimetype": "text/x-python",
   "name": "python",
   "nbconvert_exporter": "python",
   "pygments_lexer": "ipython3",
   "version": "3.6.9"
  }
 },
 "nbformat": 4,
 "nbformat_minor": 1
}
