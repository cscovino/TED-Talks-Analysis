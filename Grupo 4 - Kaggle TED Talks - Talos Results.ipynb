{
 "cells": [
  {
   "cell_type": "code",
   "execution_count": 9,
   "metadata": {},
   "outputs": [],
   "source": [
    "import pandas as pd\n",
    "import seaborn as sns\n",
    "\n",
    "import matplotlib.pyplot as plt\n",
    "\n",
    "%matplotlib inline"
   ]
  },
  {
   "cell_type": "code",
   "execution_count": 10,
   "metadata": {},
   "outputs": [],
   "source": [
    "df = pd.read_csv(\"results_talos.csv\")"
   ]
  },
  {
   "cell_type": "code",
   "execution_count": 17,
   "metadata": {},
   "outputs": [
    {
     "data": {
      "text/html": [
       "<div>\n",
       "<style scoped>\n",
       "    .dataframe tbody tr th:only-of-type {\n",
       "        vertical-align: middle;\n",
       "    }\n",
       "\n",
       "    .dataframe tbody tr th {\n",
       "        vertical-align: top;\n",
       "    }\n",
       "\n",
       "    .dataframe thead th {\n",
       "        text-align: right;\n",
       "    }\n",
       "</style>\n",
       "<table border=\"1\" class=\"dataframe\">\n",
       "  <thead>\n",
       "    <tr style=\"text-align: right;\">\n",
       "      <th></th>\n",
       "      <th>round_epochs</th>\n",
       "      <th>val_loss</th>\n",
       "      <th>val_custom_iou</th>\n",
       "      <th>loss</th>\n",
       "      <th>custom_iou</th>\n",
       "      <th>activation</th>\n",
       "      <th>batch_size</th>\n",
       "      <th>dropout</th>\n",
       "      <th>epochs</th>\n",
       "      <th>first_neuron</th>\n",
       "      <th>hidden_layers</th>\n",
       "      <th>last_activation</th>\n",
       "      <th>lr</th>\n",
       "      <th>optimizer</th>\n",
       "      <th>shapes</th>\n",
       "    </tr>\n",
       "  </thead>\n",
       "  <tbody>\n",
       "    <tr>\n",
       "      <th>48</th>\n",
       "      <td>10</td>\n",
       "      <td>0.628345</td>\n",
       "      <td>0.365098</td>\n",
       "      <td>0.010157</td>\n",
       "      <td>0.953365</td>\n",
       "      <td>relu</td>\n",
       "      <td>64</td>\n",
       "      <td>0.0</td>\n",
       "      <td>80</td>\n",
       "      <td>512</td>\n",
       "      <td>2</td>\n",
       "      <td>sigmoid</td>\n",
       "      <td>0.001</td>\n",
       "      <td>Adam</td>\n",
       "      <td>brick</td>\n",
       "    </tr>\n",
       "    <tr>\n",
       "      <th>120</th>\n",
       "      <td>11</td>\n",
       "      <td>0.632153</td>\n",
       "      <td>0.359096</td>\n",
       "      <td>0.014068</td>\n",
       "      <td>0.938093</td>\n",
       "      <td>relu</td>\n",
       "      <td>64</td>\n",
       "      <td>0.1</td>\n",
       "      <td>80</td>\n",
       "      <td>512</td>\n",
       "      <td>2</td>\n",
       "      <td>sigmoid</td>\n",
       "      <td>0.001</td>\n",
       "      <td>Adam</td>\n",
       "      <td>brick</td>\n",
       "    </tr>\n",
       "    <tr>\n",
       "      <th>49</th>\n",
       "      <td>11</td>\n",
       "      <td>0.629167</td>\n",
       "      <td>0.356418</td>\n",
       "      <td>0.008954</td>\n",
       "      <td>0.956995</td>\n",
       "      <td>relu</td>\n",
       "      <td>64</td>\n",
       "      <td>0.0</td>\n",
       "      <td>80</td>\n",
       "      <td>512</td>\n",
       "      <td>2</td>\n",
       "      <td>sigmoid</td>\n",
       "      <td>0.001</td>\n",
       "      <td>Adam</td>\n",
       "      <td>triangle</td>\n",
       "    </tr>\n",
       "    <tr>\n",
       "      <th>60</th>\n",
       "      <td>12</td>\n",
       "      <td>0.604651</td>\n",
       "      <td>0.355232</td>\n",
       "      <td>0.013733</td>\n",
       "      <td>0.940929</td>\n",
       "      <td>relu</td>\n",
       "      <td>64</td>\n",
       "      <td>0.0</td>\n",
       "      <td>80</td>\n",
       "      <td>256</td>\n",
       "      <td>2</td>\n",
       "      <td>sigmoid</td>\n",
       "      <td>0.001</td>\n",
       "      <td>Adam</td>\n",
       "      <td>brick</td>\n",
       "    </tr>\n",
       "    <tr>\n",
       "      <th>25</th>\n",
       "      <td>9</td>\n",
       "      <td>0.538554</td>\n",
       "      <td>0.353289</td>\n",
       "      <td>0.023527</td>\n",
       "      <td>0.894414</td>\n",
       "      <td>relu</td>\n",
       "      <td>64</td>\n",
       "      <td>0.0</td>\n",
       "      <td>50</td>\n",
       "      <td>512</td>\n",
       "      <td>2</td>\n",
       "      <td>sigmoid</td>\n",
       "      <td>0.001</td>\n",
       "      <td>Adam</td>\n",
       "      <td>triangle</td>\n",
       "    </tr>\n",
       "  </tbody>\n",
       "</table>\n",
       "</div>"
      ],
      "text/plain": [
       "     round_epochs  val_loss  val_custom_iou      loss  custom_iou activation  \\\n",
       "48             10  0.628345        0.365098  0.010157    0.953365       relu   \n",
       "120            11  0.632153        0.359096  0.014068    0.938093       relu   \n",
       "49             11  0.629167        0.356418  0.008954    0.956995       relu   \n",
       "60             12  0.604651        0.355232  0.013733    0.940929       relu   \n",
       "25              9  0.538554        0.353289  0.023527    0.894414       relu   \n",
       "\n",
       "     batch_size  dropout  epochs  first_neuron  hidden_layers last_activation  \\\n",
       "48           64      0.0      80           512              2         sigmoid   \n",
       "120          64      0.1      80           512              2         sigmoid   \n",
       "49           64      0.0      80           512              2         sigmoid   \n",
       "60           64      0.0      80           256              2         sigmoid   \n",
       "25           64      0.0      50           512              2         sigmoid   \n",
       "\n",
       "        lr optimizer    shapes  \n",
       "48   0.001      Adam     brick  \n",
       "120  0.001      Adam     brick  \n",
       "49   0.001      Adam  triangle  \n",
       "60   0.001      Adam     brick  \n",
       "25   0.001      Adam  triangle  "
      ]
     },
     "execution_count": 17,
     "metadata": {},
     "output_type": "execute_result"
    }
   ],
   "source": [
    "df.sort_values(by=[\"val_custom_iou\"], ascending=[False]).head()"
   ]
  },
  {
   "cell_type": "code",
   "execution_count": 12,
   "metadata": {},
   "outputs": [
    {
     "data": {
      "text/plain": [
       "864"
      ]
     },
     "execution_count": 12,
     "metadata": {},
     "output_type": "execute_result"
    }
   ],
   "source": [
    "len(df)"
   ]
  },
  {
   "cell_type": "code",
   "execution_count": 31,
   "metadata": {},
   "outputs": [
    {
     "data": {
      "text/plain": [
       "<matplotlib.legend.Legend at 0x15210f21908>"
      ]
     },
     "execution_count": 31,
     "metadata": {},
     "output_type": "execute_result"
    },
    {
     "data": {
      "image/png": "[encoded data removed]",
      "text/plain": [
       "<Figure size 864x576 with 1 Axes>"
      ]
     },
     "metadata": {
      "needs_background": "light"
     },
     "output_type": "display_data"
    }
   ],
   "source": [
    "plt.figure(figsize=(12,8))\n",
    "\n",
    "ax = sns.distplot(df['val_custom_iou'], label=\"Validation\")\n",
    "ax = sns.distplot(df['custom_iou'], label=\"Train\")\n",
    "ax.set(xlabel='Custom IOU', ylabel='Frecuencia')\n",
    "plt.legend()"
   ]
  },
  {
   "cell_type": "code",
   "execution_count": null,
   "metadata": {},
   "outputs": [],
   "source": []
  }
 ],
 "metadata": {
  "kernelspec": {
   "display_name": "Python 3",
   "language": "python",
   "name": "python3"
  },
  "language_info": {
   "codemirror_mode": {
    "name": "ipython",
    "version": 3
   },
   "file_extension": ".py",
   "mimetype": "text/x-python",
   "name": "python",
   "nbconvert_exporter": "python",
   "pygments_lexer": "ipython3",
   "version": "3.7.3"
  }
 },
 "nbformat": 4,
 "nbformat_minor": 2
}
